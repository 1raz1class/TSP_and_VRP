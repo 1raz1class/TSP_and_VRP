{
 "cells": [
  {
   "cell_type": "code",
   "execution_count": 1,
   "metadata": {},
   "outputs": [],
   "source": [
    "import numpy as np\n",
    "import pandas as pd\n",
    "import matplotlib.pyplot as plt"
   ]
  },
  {
   "cell_type": "code",
   "execution_count": 2,
   "metadata": {},
   "outputs": [],
   "source": [
    "Data1 = pd.DataFrame([[0,75,99,9,35,63,8],[51,0,86,46,88,29,20],[100,5,0,16,28,35,28],\n",
    "                      [20,45,11,0,59,53,49],[86,63,33,65,0,76,72],[36,53,89,31,21,0,52],\n",
    "                      [58,31,43,67,52,60,0]], columns=[\"A\",\"B\",\"C\",\"D\",\"E\",\"F\",\"G\"],\n",
    "                     index=[\"A\",\"B\",\"C\",\"D\",\"E\",\"F\",\"G\"]) # Dataframe for 7-cities"
   ]
  },
  {
   "cell_type": "code",
   "execution_count": 9,
   "metadata": {},
   "outputs": [
    {
     "name": "stdout",
     "output_type": "stream",
     "text": [
      "['A', 'C', 'G', 'D', 'E', 'B', 'F']\n",
      "[99, 28, 67, 59, 63, 29, 36]\n",
      "Length_of_Travel: 381\n"
     ]
    }
   ],
   "source": [
    "X0 = [\"A\",\"C\",\"G\",\"D\",\"E\",\"B\",\"F\"] # Initial solution\n",
    "\n",
    "Distances = [] # The OF of the initial solution\n",
    "t = 0\n",
    "for i in range(len(X0)-1):\n",
    "    X1 = Data1.loc[X0[t],X0[t+1]] # Each city and the city after it\n",
    "    X11 = Data1.loc[X0[-1],X0[0]] # The last city to the first city\n",
    "    Distances.append(X1) # Append the distances\n",
    "    t = t+1\n",
    "\n",
    "Distances.append(X11) # Append the distance of the last city with the first one\n",
    "Length_of_Travel = sum(Distances) # Add up the distances\n",
    "print(X0)\n",
    "print(Distances)\n",
    "print(\"Length_of_Travel:\",Length_of_Travel)"
   ]
  },
  {
   "cell_type": "code",
   "execution_count": 15,
   "metadata": {},
   "outputs": [
    {
     "name": "stderr",
     "output_type": "stream",
     "text": [
      "C:\\Users\\Cristina\\anaconda3\\lib\\site-packages\\ipykernel_launcher.py:65: RuntimeWarning: overflow encountered in exp\n"
     ]
    }
   ],
   "source": [
    "### PARAMETERS ###\n",
    "\n",
    "T0 = 3000 # initial tempereture\n",
    "M = 1000 # how many times the temp will decrease\n",
    "N = 50 # nb of neigbours at each T\n",
    "Alpha = 0.75 # cooling rate\n",
    "\n",
    "# For visualization\n",
    "Temp = []\n",
    "Min_Distance = []\n",
    "for i in range(M): # for every decrease \n",
    "    for j in range(N): # take N neighbours (here 50)\n",
    "        # we have to swap cities\n",
    "        # To generate random integers in order to swap cities\n",
    "        Ran1 = np.random.randint(0,len(X0)) # will randomly pick a city\n",
    "        Ran2 = np.random.randint(0,len(X0)) # will randomly pick another city\n",
    "        while Ran1 == Ran2:\n",
    "            Ran2 = np.random.randint(0,len(X0))\n",
    "        \n",
    "        Xtemp = [] # empty list for new temporary solution\n",
    "        A1 = X0[Ran1] # Select the city to swap\n",
    "        A2 = X0[Ran2] # Select the city to swap with\n",
    "        \n",
    "        # [\"A\",\"C\",\"G\",\"D\",\"E\",\"B\",\"F\"]     \n",
    "         # Making a new list of the new set of cities\n",
    "        w = 0\n",
    "        for i in X0: # for every city in initial solution\n",
    "            if X0[w]==A1: # if 1st city = randomly selected city A1\n",
    "                Xtemp=np.append(Xtemp,A2) # append to temp. sol. A2 (2nd random city)\n",
    "            elif X0[w]==A2: # if 1st city=randomly selected city A2\n",
    "                Xtemp=np.append(Xtemp,A1) # append to temp. sol. A1 (2nd random city)\n",
    "            else:\n",
    "                Xtemp=np.append(Xtemp,X0[w])\n",
    "            w = w+1\n",
    "        \n",
    "        Xtemp = list(Xtemp)\n",
    "        \n",
    "        \n",
    "        \n",
    "        Distances_X0 = [] # The OF of the solution in hand\n",
    "        t = 0\n",
    "        for i in range(len(X0)-1):\n",
    "            X1_1 = Data1.loc[X0[t],X0[t+1]] # Each city and the city after it\n",
    "            X11 = Data1.loc[X0[-1],X0[0]] # The last city to the first city\n",
    "            Distances_X0.append(X1_1) # Append the distances\n",
    "            t = t+1\n",
    "        \n",
    "        Distances_X0.append(X11) # Append the distance of the last city with the first one\n",
    "        Len_X0 = sum(Distances_X0) # Add up the distances\n",
    "        \n",
    "        \n",
    "        Distances_Xtemp = [] # The OF of the potential solution (n+1)\n",
    "        t = 0\n",
    "        for i in range(len(Xtemp)-1):\n",
    "            X1_2 = Data1.loc[Xtemp[t],Xtemp[t+1]] # Each city and the city after it\n",
    "            X11 = Data1.loc[Xtemp[-1],Xtemp[0]] # The last city to the first city\n",
    "            Distances_Xtemp.append(X1_2) # Append the distances\n",
    "            t = t+1\n",
    "        \n",
    "        Distances_Xtemp.append(X11) # Append the distance of the last city with the first one\n",
    "        Len_Xtemp = sum(Distances_Xtemp) # Add up the distances\n",
    "        \n",
    "        \n",
    "        rand_num = np.random.rand() # RN for the formula below\n",
    "        form_1 = 1/(np.exp((Len_Xtemp-Len_X0)/T0)) # The formula to accept moves\n",
    "        \n",
    "        if Len_Xtemp <= Len_X0: # If the OF of the potential solution was better (less)\n",
    "            X0 = Xtemp\n",
    "        \n",
    "        elif rand_num <= form_1: # If the RN was less than the formula\n",
    "            X0 = Xtemp\n",
    "        \n",
    "        else: # Don't accept the potential solution and stay where you are\n",
    "            X0 = X0\n",
    "            \n",
    "    Temp = np.append(Temp, T0) # Append temps. for visualization\n",
    "    Min_Distance = np.append(Min_Distance,Len_Xtemp) # Append costs for visualization\n",
    "    \n",
    "    T0 = Alpha*T0 # Decrease the temp."
   ]
  },
  {
   "cell_type": "code",
   "execution_count": 16,
   "metadata": {},
   "outputs": [
    {
     "name": "stdout",
     "output_type": "stream",
     "text": [
      "Final Solution is:  ['E', 'C', 'D', 'A', 'G', 'B', 'F']\n",
      "Minimized Distance at Final Solution is:  158\n"
     ]
    }
   ],
   "source": [
    "print\n",
    "print\n",
    "print(\"Final Solution is: \", X0)\n",
    "print(\"Minimized Distance at Final Solution is: \", Len_X0)"
   ]
  },
  {
   "cell_type": "code",
   "execution_count": 17,
   "metadata": {},
   "outputs": [
    {
     "data": {
      "image/png": "[encoded data removed]",
      "text/plain": [
       "<Figure size 432x288 with 1 Axes>"
      ]
     },
     "metadata": {
      "needs_background": "light"
     },
     "output_type": "display_data"
    }
   ],
   "source": [
    "plt.plot(Temp,Min_Distance)\n",
    "plt.title(\"Distance vs. Temperature\",fontsize=20,fontweight='bold')\n",
    "plt.xlabel(\"Temperature\",fontsize=18,fontweight='bold')\n",
    "plt.ylabel(\"Distance\",fontsize=18,fontweight='bold')\n",
    "plt.xlim(3000, 0)\n",
    "plt.xticks(np.arange(min(Temp), max(Temp), 200),fontsize=10)\n",
    "plt.yticks(fontweight='bold')\n",
    "plt.show()"
   ]
  },
  {
   "cell_type": "code",
   "execution_count": null,
   "metadata": {},
   "outputs": [],
   "source": []
  }
 ],
 "metadata": {
  "kernelspec": {
   "display_name": "Python 3",
   "language": "python",
   "name": "python3"
  },
  "language_info": {
   "codemirror_mode": {
    "name": "ipython",
    "version": 3
   },
   "file_extension": ".py",
   "mimetype": "text/x-python",
   "name": "python",
   "nbconvert_exporter": "python",
   "pygments_lexer": "ipython3",
   "version": "3.7.6"
  }
 },
 "nbformat": 4,
 "nbformat_minor": 4
}
